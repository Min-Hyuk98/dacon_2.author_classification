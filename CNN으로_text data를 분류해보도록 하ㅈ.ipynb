{
 "cells": [
  {
   "cell_type": "markdown",
   "metadata": {},
   "source": [
    "# 이번 기회에 NLP를 공부하면서 많은 것을 배웠습니다. 데이콘 감사해요!\n",
    "\n",
    "정형 데이터는 lightgbm, xgboost,\n",
    "이미지 데이터는 CNN,\n",
    "텍스트 데이터는 RNN이 답이다,라고\n",
    "배워왔습니다....\n",
    "\n",
    "하지만 막상 다양한 대회를 진행하며 공부를 하다보니 꼭 모든 것에 정답이 정해져 있는 것은 아니였더군요.\n",
    "본문에 앞서 해당 내용의 출처를 올립니다.\n",
    "\n",
    "CNN이 왜why text data를 분석하는거죠...?\n",
    "    -> http://emnlp2014.org/papers/pdf/EMNLP2014181.pdf\n",
    "\n",
    "더 많은 내용을 알고 싶습니다\n",
    "    -> https://www.kaggle.com/criscastromaya/cnn-for-nlp-in-keras\n",
    "\n",
    "매우 좋은 결과를 내는 것은 아니기에 test set을 predict하는 것까지는 진행하지 않았습니다. 단지 내용 자체가 매우 유의미하다고 생각합니다 :)"
   ]
  },
  {
   "cell_type": "code",
   "execution_count": 1,
   "metadata": {
    "_cell_guid": "79c7e3d0-c299-4dcb-8224-4455121ee9b0",
    "_uuid": "d629ff2d2480ee46fbb7e2d37f6b5fab8052498a",
    "scrolled": true
   },
   "outputs": [],
   "source": [
    "import pandas as pd\n",
    "import numpy as np\n",
    "import seaborn as sns\n",
    "import matplotlib.pyplot as plt\n",
    "\n",
    "%matplotlib inline"
   ]
  },
  {
   "cell_type": "code",
   "execution_count": 2,
   "metadata": {},
   "outputs": [
    {
     "name": "stdout",
     "output_type": "stream",
     "text": [
      "1 Physical GPUs, 1 Logical GPUs\n"
     ]
    }
   ],
   "source": [
    "import tensorflow as tf\n",
    "\n",
    "gpus = tf.config.experimental.list_physical_devices('GPU')\n",
    "if gpus:\n",
    "    try:\n",
    "    # Currently, memory growth needs to be the same across GPUs\n",
    "        for gpu in gpus:\n",
    "            tf.config.experimental.set_memory_growth(gpu, True)\n",
    "        logical_gpus = tf.config.experimental.list_logical_devices('GPU')\n",
    "        print(len(gpus), \"Physical GPUs,\", len(logical_gpus), \"Logical GPUs\")\n",
    "    except RuntimeError as e:\n",
    "        # Memory growth must be set before GPUs have been initialized\n",
    "        print(e)"
   ]
  },
  {
   "cell_type": "markdown",
   "metadata": {},
   "source": [
    "# 전처리"
   ]
  },
  {
   "cell_type": "markdown",
   "metadata": {},
   "source": [
    "특수문자를 제거해줍니다."
   ]
  },
  {
   "cell_type": "code",
   "execution_count": 3,
   "metadata": {
    "_uuid": "a63da9c005f2641d7cf1e2854f6ccb6e696e04ae"
   },
   "outputs": [],
   "source": [
    "import re\n",
    "#this are our cleaning rules\n",
    "cleaningOptions = {\n",
    "    '[A-Za-z0-9_-]{10,}':'',\n",
    "    \"\\'m\":\" am\",\n",
    "    \"\\'s\":\" is\",\n",
    "    \"\\'ve\":\" have\",\n",
    "    \"n\\'t\":\" not\",\n",
    "    \"\\'re\":\" are\",\n",
    "    \"\\'d\":\" had\",\n",
    "    \"\\'ll\":\" will\",\n",
    "    '\\s{2,}|\\?{2,}|\\!{2,}|#{2,}|={2,}|-{2,}|_{2,}|\\.{2,}|\\*{2,}|\\^{2,}':'',\n",
    "    '(':' ( ',\n",
    "    '/':' / ',\n",
    "    ')':' ) ',\n",
    "    '?':' ? ',\n",
    "    '¿':' ¿ ',\n",
    "    ']':' ] ',\n",
    "    '[':' [ ',\n",
    "    '}':' } ',\n",
    "    '{':' { ',\n",
    "    '<':' < ',\n",
    "    '\"':' \" ',\n",
    "    '>':' > ',\n",
    "    ',':' , ',\n",
    "    '!':' ! ',\n",
    "    '.':' . ',\n",
    "    ':':' : ',\n",
    "    '-':' - ',\n",
    "    \"[A-Za-z0-9_-]*@[A-Za-z0-9._-]*\\s?\":\"\",\n",
    "    \"https?://[A-Za-z0-9./-]+\":\"\",\n",
    "}\n",
    "\n",
    "def escapePattern(pattern):\n",
    "    \"\"\"Helper function to build our regex\"\"\"\n",
    "    if len(pattern)==1:\n",
    "        pattern=re.escape(pattern)\n",
    "    return pattern\n",
    "\n",
    "def compileCleanerRegex(cleaningOptions=None):\n",
    "    \"\"\"Given a dictionary of rules this contruct the regular expresion to detect the patterns \"\"\"\n",
    "    return re.compile(\"(%s)\" % \"|\".join(map(escapePattern,cleaningOptions.keys())))\n",
    "\n",
    "replacementDictRegex = compileCleanerRegex(cleaningOptions)"
   ]
  },
  {
   "cell_type": "markdown",
   "metadata": {},
   "source": [
    "데이터를 불러와줍니다."
   ]
  },
  {
   "cell_type": "code",
   "execution_count": 4,
   "metadata": {},
   "outputs": [],
   "source": [
    "df_train = pd.read_csv(\"./data/train.csv\")\n",
    "df_test = pd.read_csv(\"./data/test_x.csv\")"
   ]
  },
  {
   "cell_type": "markdown",
   "metadata": {},
   "source": [
    "데이터의 분포도를 확인해봅니다. 이쁘군요."
   ]
  },
  {
   "cell_type": "code",
   "execution_count": 5,
   "metadata": {},
   "outputs": [
    {
     "data": {
      "text/html": [
       "<div>\n",
       "<style scoped>\n",
       "    .dataframe tbody tr th:only-of-type {\n",
       "        vertical-align: middle;\n",
       "    }\n",
       "\n",
       "    .dataframe tbody tr th {\n",
       "        vertical-align: top;\n",
       "    }\n",
       "\n",
       "    .dataframe thead th {\n",
       "        text-align: right;\n",
       "    }\n",
       "</style>\n",
       "<table border=\"1\" class=\"dataframe\">\n",
       "  <thead>\n",
       "    <tr style=\"text-align: right;\">\n",
       "      <th></th>\n",
       "      <th>index</th>\n",
       "      <th>text</th>\n",
       "      <th>author</th>\n",
       "    </tr>\n",
       "  </thead>\n",
       "  <tbody>\n",
       "    <tr>\n",
       "      <th>0</th>\n",
       "      <td>0</td>\n",
       "      <td>He was almost choking. There was so much, so m...</td>\n",
       "      <td>3</td>\n",
       "    </tr>\n",
       "    <tr>\n",
       "      <th>1</th>\n",
       "      <td>1</td>\n",
       "      <td>“Your sister asked for it, I suppose?”</td>\n",
       "      <td>2</td>\n",
       "    </tr>\n",
       "    <tr>\n",
       "      <th>2</th>\n",
       "      <td>2</td>\n",
       "      <td>She was engaged one day as she walked, in per...</td>\n",
       "      <td>1</td>\n",
       "    </tr>\n",
       "    <tr>\n",
       "      <th>3</th>\n",
       "      <td>3</td>\n",
       "      <td>The captain was in the porch, keeping himself ...</td>\n",
       "      <td>4</td>\n",
       "    </tr>\n",
       "    <tr>\n",
       "      <th>4</th>\n",
       "      <td>4</td>\n",
       "      <td>“Have mercy, gentlemen!” odin flung up his han...</td>\n",
       "      <td>3</td>\n",
       "    </tr>\n",
       "    <tr>\n",
       "      <th>...</th>\n",
       "      <td>...</td>\n",
       "      <td>...</td>\n",
       "      <td>...</td>\n",
       "    </tr>\n",
       "    <tr>\n",
       "      <th>54874</th>\n",
       "      <td>54874</td>\n",
       "      <td>“Is that you, Mr. Smith?” odin whispered. “I h...</td>\n",
       "      <td>2</td>\n",
       "    </tr>\n",
       "    <tr>\n",
       "      <th>54875</th>\n",
       "      <td>54875</td>\n",
       "      <td>I told my plan to the captain, and between us ...</td>\n",
       "      <td>4</td>\n",
       "    </tr>\n",
       "    <tr>\n",
       "      <th>54876</th>\n",
       "      <td>54876</td>\n",
       "      <td>\"Your sincere well-wisher, friend, and sister...</td>\n",
       "      <td>1</td>\n",
       "    </tr>\n",
       "    <tr>\n",
       "      <th>54877</th>\n",
       "      <td>54877</td>\n",
       "      <td>“Then you wanted me to lend you money?”</td>\n",
       "      <td>3</td>\n",
       "    </tr>\n",
       "    <tr>\n",
       "      <th>54878</th>\n",
       "      <td>54878</td>\n",
       "      <td>It certainly had not occurred to me before, bu...</td>\n",
       "      <td>0</td>\n",
       "    </tr>\n",
       "  </tbody>\n",
       "</table>\n",
       "<p>54879 rows × 3 columns</p>\n",
       "</div>"
      ],
      "text/plain": [
       "       index                                               text  author\n",
       "0          0  He was almost choking. There was so much, so m...       3\n",
       "1          1             “Your sister asked for it, I suppose?”       2\n",
       "2          2   She was engaged one day as she walked, in per...       1\n",
       "3          3  The captain was in the porch, keeping himself ...       4\n",
       "4          4  “Have mercy, gentlemen!” odin flung up his han...       3\n",
       "...      ...                                                ...     ...\n",
       "54874  54874  “Is that you, Mr. Smith?” odin whispered. “I h...       2\n",
       "54875  54875  I told my plan to the captain, and between us ...       4\n",
       "54876  54876   \"Your sincere well-wisher, friend, and sister...       1\n",
       "54877  54877            “Then you wanted me to lend you money?”       3\n",
       "54878  54878  It certainly had not occurred to me before, bu...       0\n",
       "\n",
       "[54879 rows x 3 columns]"
      ]
     },
     "execution_count": 5,
     "metadata": {},
     "output_type": "execute_result"
    }
   ],
   "source": [
    "df_train"
   ]
  },
  {
   "cell_type": "code",
   "execution_count": 6,
   "metadata": {
    "_uuid": "4faaef929f715cf4af8bb9fb842609953fe06244"
   },
   "outputs": [
    {
     "data": {
      "text/plain": [
       "<AxesSubplot:title={'center':'Samples per each class (Training set)'}, xlabel='author'>"
      ]
     },
     "execution_count": 6,
     "metadata": {},
     "output_type": "execute_result"
    },
    {
     "data": {
      "image/png": "[encoded data removed]",
      "text/plain": [
       "<Figure size 432x288 with 1 Axes>"
      ]
     },
     "metadata": {
      "needs_background": "light"
     },
     "output_type": "display_data"
    }
   ],
   "source": [
    "df_train.groupby(df_train.author).size().reset_index(name=\"counts\").plot.bar(x='author',title=\"Samples per each class (Training set)\",color='red')"
   ]
  },
  {
   "cell_type": "code",
   "execution_count": 7,
   "metadata": {
    "_uuid": "2844245ef91c4232a72f003838dad849a7b163bf",
    "scrolled": false
   },
   "outputs": [
    {
     "name": "stdout",
     "output_type": "stream",
     "text": [
      "가장 많은 token을 가진 row는 472개의 token을, 가장 적은 개수의 token을 가진 row는 5개의 token을 가지고 있습니다.\n"
     ]
    }
   ],
   "source": [
    "#df_train[df_train.text.str.split(\" \").apply(len)==df_train.text.str.split(\" \").apply(len).max()]\n",
    "max_l=df_train.text.str.split(\" \").apply(len).max()\n",
    "min_l=df_train.text.str.split(\" \").apply(len).min()\n",
    "print(f\"가장 많은 token을 가진 row는 {max_l}개의 token을, 가장 적은 개수의 token을 가진 row는 {min_l}개의 token을 가지고 있습니다.\")"
   ]
  },
  {
   "cell_type": "markdown",
   "metadata": {},
   "source": [
    "문장의 길이도 확인해 봅니다."
   ]
  },
  {
   "cell_type": "code",
   "execution_count": 8,
   "metadata": {
    "_uuid": "fefc2f5906042a0f1d63d8e3f8c0182316d2a9a7",
    "scrolled": false
   },
   "outputs": [
    {
     "name": "stderr",
     "output_type": "stream",
     "text": [
      "c:\\users\\82109\\anaconda3\\envs\\tf_python3.7\\lib\\site-packages\\seaborn\\distributions.py:2551: FutureWarning: `distplot` is a deprecated function and will be removed in a future version. Please adapt your code to use either `displot` (a figure-level function with similar flexibility) or `histplot` (an axes-level function for histograms).\n",
      "  warnings.warn(msg, FutureWarning)\n"
     ]
    },
    {
     "data": {
      "image/png": "[encoded data removed]",
      "text/plain": [
       "<Figure size 432x288 with 1 Axes>"
      ]
     },
     "metadata": {
      "needs_background": "light"
     },
     "output_type": "display_data"
    },
    {
     "name": "stdout",
     "output_type": "stream",
     "text": [
      " 가장 긴 문장은 471 개의 단어를, 가장 짧은 문장은 4 개의 단어를 가지고 있습니다.\n"
     ]
    }
   ],
   "source": [
    "df_train['doc_len'] = df_train.text.apply(lambda words: len(words.split()))\n",
    "\n",
    "def plot_doc_lengths(dataframe):\n",
    "    max_seq_len = np.round(dataframe.doc_len.mean() + dataframe.doc_len.std()).astype(int)\n",
    "    sns.distplot(tuple(dataframe.doc_len), hist=True, kde=True, label='Document lengths')\n",
    "    plt.axvline(x=max_seq_len, color='k', linestyle='--', label=f'Sequence length mean:{max_seq_len}')\n",
    "    plt.title('Document lengths')\n",
    "    plt.legend()\n",
    "    plt.show()\n",
    "    print(f\" 가장 긴 문장은 {df_train['doc_len'].max()} 개의 단어를, 가장 짧은 문장은 {df_train['doc_len'].min()} 개의 단어를 가지고 있습니다.\")\n",
    "plot_doc_lengths(df_train)"
   ]
  },
  {
   "cell_type": "markdown",
   "metadata": {},
   "source": [
    "위 그래프에서 확인했듯 평균값은 93이므로 sequence에 적용할 max length를 150 정도로 적당히 잡아줍니다."
   ]
  },
  {
   "cell_type": "code",
   "execution_count": 9,
   "metadata": {},
   "outputs": [],
   "source": [
    "max_length=180"
   ]
  },
  {
   "cell_type": "markdown",
   "metadata": {},
   "source": [
    "이제 train set과 validation set으로 분할하고, tokenize를 진행합니다."
   ]
  },
  {
   "cell_type": "code",
   "execution_count": 10,
   "metadata": {
    "_uuid": "19cfdd598e9154118bdc2be76b339528e4b0c018"
   },
   "outputs": [],
   "source": [
    "from sklearn.model_selection import train_test_split\n",
    "SEED = 200\n",
    "X_train, X_validation, y_train, y_validation = train_test_split(df_train.text, df_train.author, test_size=0.2, random_state=3,stratify= df_train.author)"
   ]
  },
  {
   "cell_type": "code",
   "execution_count": 11,
   "metadata": {
    "scrolled": true
   },
   "outputs": [
    {
     "data": {
      "text/plain": [
       "9675     “But you are clever, anyway. You are scolding ...\n",
       "8523     'Why, odin!' said the Jew, in a soothing tone;...\n",
       "54225    \"The lady, I suppose, has no choice in the aff...\n",
       "40833    His eyes were glittering, his lips were twitch...\n",
       "35524    He got up and seized something that was lying ...\n",
       "                               ...                        \n",
       "29115    The season was still so early that Will's cust...\n",
       "37526     FATAL KATYA: To‐morrow I will get the money a...\n",
       "40793    Had a kingdom depended on the act, I could not...\n",
       "14869    “I remember a certain famous occasion when you...\n",
       "17723    odin Burke was one of the Prince’s Irishmen, t...\n",
       "Name: text, Length: 43903, dtype: object"
      ]
     },
     "execution_count": 11,
     "metadata": {},
     "output_type": "execute_result"
    }
   ],
   "source": [
    "X_train"
   ]
  },
  {
   "cell_type": "code",
   "execution_count": 12,
   "metadata": {},
   "outputs": [
    {
     "data": {
      "text/plain": [
       "0        “Not at all. I think she is one of the most ch...\n",
       "1        \"No,\" replied he, with sudden consciousness, \"...\n",
       "2        As the lady had stated her intention of scream...\n",
       "3        “And then suddenly in the silence I heard a so...\n",
       "4        His conviction remained unchanged. So far as I...\n",
       "                               ...                        \n",
       "19612    At the end of another day or two, odin growing...\n",
       "19613    All afternoon we sat together, mostly in silen...\n",
       "19614     odin, having carried his thanks to odin, proc...\n",
       "19615    Soon after this, upon odin's leaving the room,...\n",
       "19616    And all the worse for the doomed man, that the...\n",
       "Name: text, Length: 19617, dtype: object"
      ]
     },
     "execution_count": 12,
     "metadata": {},
     "output_type": "execute_result"
    }
   ],
   "source": [
    "X_test = df_test['text']\n",
    "X_test"
   ]
  },
  {
   "cell_type": "code",
   "execution_count": 13,
   "metadata": {
    "_uuid": "764e771b589c4ff22af37ba8d902e477d633da18"
   },
   "outputs": [],
   "source": [
    "from tensorflow.keras.preprocessing.text import Tokenizer\n",
    "tokenizer = Tokenizer(num_words=500000)\n",
    "tokenizer.fit_on_texts(X_train)\n",
    "sequences_train = tokenizer.texts_to_sequences(X_train)\n",
    "sequences_validation = tokenizer.texts_to_sequences(X_validation)\n",
    "sequences_test = tokenizer.texts_to_sequences(X_test)"
   ]
  },
  {
   "cell_type": "markdown",
   "metadata": {},
   "source": [
    "tokenized된 내용을 확인해봅니다."
   ]
  },
  {
   "cell_type": "code",
   "execution_count": 14,
   "metadata": {
    "_uuid": "45f3bc2b5e3b2b7f57d61e37fc8a29fdab523a1a",
    "scrolled": false
   },
   "outputs": [
    {
     "name": "stdout",
     "output_type": "stream",
     "text": [
      "Original document: “But you are clever, anyway. You are scolding again? I didn’t ask out of sympathy. You needn’t answer. Now rheumatism has come in again—” \n",
      "Numerical representation: [235, 13, 49, 1323, 1698, 13, 49, 7976, 98, 6, 593, 294, 56, 4, 1944, 13, 5198, 317, 66, 10399, 91, 85, 7, 23759]\n"
     ]
    }
   ],
   "source": [
    "print(f\"Original document: {X_train.values[0]} \\nNumerical representation: {sequences_train[0]}\")"
   ]
  },
  {
   "cell_type": "code",
   "execution_count": 15,
   "metadata": {},
   "outputs": [
    {
     "name": "stdout",
     "output_type": "stream",
     "text": [
      "Original document: “Not at all. I think she is one of the most charming young ladies I ever met, and might have been most useful in such work as we have been doing. She had a decided genius that way: witness the way in which she preserved that Agra plan from all the other papers of her father. But love is an emotional thing, and whatever is emotional is opposed to that true cold reason which I place above all things. I should never marry myself, lest I bias my judgment.” \n",
      "Numerical representation: [955, 21, 33, 6, 99, 28, 24, 43, 4, 1, 150, 1660, 152, 681, 6, 172, 467, 2, 126, 26, 45, 150, 2052, 7, 88, 351, 20, 47, 26, 45, 439, 28, 17, 5, 1012, 2735, 14, 122, 1537, 1, 122, 7, 38, 28, 3348, 14, 13546, 1306, 36, 33, 1, 112, 792, 4, 19, 210, 25, 226, 24, 50, 16448, 199, 2, 733, 24, 16448, 24, 4004, 3, 14, 358, 465, 396, 38, 6, 198, 458, 33, 288, 6, 84, 104, 780, 160, 2422, 6, 33145, 23, 1610, 9]\n"
     ]
    }
   ],
   "source": [
    "print(f\"Original document: {X_test.values[0]} \\nNumerical representation: {sequences_test[0]}\")"
   ]
  },
  {
   "cell_type": "code",
   "execution_count": 16,
   "metadata": {
    "_uuid": "804f51bf90cc67d184f10bc2fee38bdbbfc07c53",
    "scrolled": false
   },
   "outputs": [
    {
     "name": "stdout",
     "output_type": "stream",
     "text": [
      "Train set shape: (43903, 180)\n",
      "Validation set shape: (10976, 180)\n",
      "Test set shape: (19617, 180)\n"
     ]
    }
   ],
   "source": [
    "from keras.preprocessing import sequence\n",
    "x_train=sequence.pad_sequences(sequences_train,maxlen=max_length)\n",
    "x_validation=sequence.pad_sequences(sequences_validation,maxlen=max_length)\n",
    "x_test=sequence.pad_sequences(sequences_test,maxlen=max_length)\n",
    "print(f\"Train set shape: {x_train.shape}\\nValidation set shape: {x_validation.shape}\\nTest set shape: {x_test.shape}\")"
   ]
  },
  {
   "cell_type": "code",
   "execution_count": 17,
   "metadata": {
    "scrolled": false
   },
   "outputs": [
    {
     "data": {
      "text/plain": [
       "array([[    0,     0,     0, ...,    85,     7, 23759],\n",
       "       [    0,     0,     0, ...,  2012,  5744,    69],\n",
       "       [    0,     0,     0, ...,     7,     1,  1277],\n",
       "       ...,\n",
       "       [    0,     0,     0, ...,    36,     1,   812],\n",
       "       [    0,     0,     0, ...,    45,  1398,     9],\n",
       "       [    0,     0,     0, ...,  2257,    23,   567]])"
      ]
     },
     "execution_count": 17,
     "metadata": {},
     "output_type": "execute_result"
    }
   ],
   "source": [
    "x_train"
   ]
  },
  {
   "cell_type": "code",
   "execution_count": 18,
   "metadata": {},
   "outputs": [
    {
     "data": {
      "text/plain": [
       "array([[    0,     0,     0, ...,    23,  1610,     9],\n",
       "       [    0,     0,     0, ...,    71,    42, 11125],\n",
       "       [    0,     0,     0, ...,    67,    11,    41],\n",
       "       ...,\n",
       "       [    0,     0,     0, ...,     7,    19,   169],\n",
       "       [    0,     0,     0, ...,    30,    21,  4835],\n",
       "       [    0,     0,     0, ...,     4,   866,  1944]])"
      ]
     },
     "execution_count": 18,
     "metadata": {},
     "output_type": "execute_result"
    }
   ],
   "source": [
    "x_test"
   ]
  },
  {
   "cell_type": "code",
   "execution_count": 19,
   "metadata": {
    "_uuid": "119aebff04e689a4b70f218197ae6e27ee1415ae"
   },
   "outputs": [],
   "source": [
    "from sklearn.preprocessing import LabelBinarizer\n",
    "encoder = LabelBinarizer()\n",
    "y_train_categorical=encoder.fit_transform(y_train.values.reshape(-1, 1))\n",
    "y_validation_categorical=encoder.transform(y_validation.values.reshape(-1, 1))"
   ]
  },
  {
   "cell_type": "code",
   "execution_count": 20,
   "metadata": {
    "_uuid": "558c09d1cfa2018e7c5973f9db70e7b6440a7d3b",
    "scrolled": true
   },
   "outputs": [
    {
     "name": "stdout",
     "output_type": "stream",
     "text": [
      "Train set labels: 43903\n",
      "Validation set labels: 10976\n"
     ]
    }
   ],
   "source": [
    "print(f\"Train set labels: {y_train_categorical.__len__()}\\nValidation set labels: {y_validation_categorical.__len__()}\")"
   ]
  },
  {
   "cell_type": "markdown",
   "metadata": {},
   "source": [
    "# 모델"
   ]
  },
  {
   "cell_type": "code",
   "execution_count": 21,
   "metadata": {
    "_uuid": "eac61eb459c1863ef6d25d3e5eac7ef4bfa8d1d9"
   },
   "outputs": [],
   "source": [
    "from tensorflow.keras.layers import *\n",
    "from tensorflow.keras import regularizers\n",
    "from tensorflow.keras import Sequential,optimizers\n",
    "from keras_sequential_ascii import keras2ascii\n",
    "\n",
    "class CNNtext(Sequential):\n",
    "    \"\"\"\n",
    "    This class extends  keras.sequencial in order to build our \n",
    "    model according to the designed architecture\n",
    "    \"\"\"\n",
    "    #params for the convolutional layers\n",
    "    __num_filters = 64\n",
    "    __weight_decay = 1e-4\n",
    "    #optimizers\n",
    "    __adam = optimizers.Adam(lr=0.001, beta_1=0.9, beta_2=0.999, epsilon=1e-08, decay=0.0)\n",
    "    def __init__(self,max_length,number_of_classes,embedding_matrix=None,vocab_size=None,tokenizer=None):\n",
    "        #creating the model heritance from Keras.sequencial\n",
    "        super().__init__()\n",
    "        #params for the embedding layer\n",
    "        self.__embedding_dim=100 if embedding_matrix is None else embedding_matrix.shape[1]\n",
    "        #self.__vocab_size=vocab_size if tokenizer is None else tokenizer.word_index.__len__()+1\n",
    "        self.__vocab_size=vocab_size if tokenizer is None else max(tokenizer.index_word.keys())+1\n",
    "        try:\n",
    "            self.__max_length=max_length\n",
    "            self.__number_of_classes=number_of_classes \n",
    "        except NameError as error:\n",
    "            print(\"Error \",error,\" must be defined.\")\n",
    "            \n",
    "        #defining layers\n",
    "        #This layer will learn an embedding the vocab_size is the vocabulary learn from our tokenizer\n",
    "        #the embedding dimension is defined by our selfs in this case we choose a dimension of 100\n",
    "        #the input length is the maximum length of the documents we will use\n",
    "        if embedding_matrix is None:\n",
    "            self.add(Embedding(self.__vocab_size,\n",
    "                               self.__embedding_dim,\n",
    "                               input_length=self.__max_length,trainable=True))\n",
    "        else:\n",
    "            self.add(Embedding(embedding_matrix.shape[0],\n",
    "                               embedding_matrix.shape[1],\n",
    "                               weights=[embedding_matrix],\n",
    "                               input_length=self.__max_length,\n",
    "                               trainable=False))\n",
    "        #then we apply a 1D conv layer that should apply filters to the sequence and generate features maps.\n",
    "        self.add(Conv1D(self.__num_filters, 7, activation='relu', padding='same'))\n",
    "        #then we will get the most important features using a max pooling layer\n",
    "        self.add(MaxPooling1D(2))\n",
    "        #afterwards we apply a conv 1D layer to learn new features form the previous results\n",
    "        self.add(Conv1D(self.__num_filters, 7, activation='relu', padding='same'))\n",
    "        #we select again the most important features\n",
    "        self.add(GlobalMaxPooling1D())\n",
    "        #then we apply dropout to improve the generalization\n",
    "        self.add(Dropout(0.5))\n",
    "        #then we will pass the results into a dense layer that will also learn some internal representation and we also use the l2 regularization\n",
    "        self.add(Dense(32, activation='relu', kernel_regularizer=regularizers.l2(self.__weight_decay)))\n",
    "        #for the final layer we will use softmax to obtain the probabilities of each class.\n",
    "        self.add(Dense(self.__number_of_classes, activation='softmax'))  \n",
    "        #to compute the loss function we use binary_crossentropy\n",
    "        #which is widely used for multi-classification problems\n",
    "        #we also use the adam optimazer to learn the parameters(weights)\n",
    "        #and minimize the loss function.\n",
    "        # 몰랐는데 binary_crossentropy가 multi-classification 에 좋다고 하는군요.\n",
    "        # binary_crossentropy는 반드시 binary-classification에만 써야 하는건줄 알았는데...\n",
    "        self.compile(loss='binary_crossentropy', optimizer=self.__adam, metrics=['accuracy'])"
   ]
  },
  {
   "cell_type": "markdown",
   "metadata": {
    "_uuid": "2d2eaaad74840a17d5d7db753c5542c13a51be0c"
   },
   "source": [
    "# (CNN+BOW)로 학습하기"
   ]
  },
  {
   "cell_type": "code",
   "execution_count": 22,
   "metadata": {
    "_uuid": "78a7c24e925afda3d1e3225aea8510b8c7acd19f"
   },
   "outputs": [],
   "source": [
    "from keras.callbacks import EarlyStopping\n",
    "es = EarlyStopping(monitor='val_loss', min_delta=0.01, patience=2, verbose=1)"
   ]
  },
  {
   "cell_type": "code",
   "execution_count": 23,
   "metadata": {
    "_uuid": "eb542d20577909fcea005ad6a0c7fcaa147462f0"
   },
   "outputs": [],
   "source": [
    "#training params\n",
    "batch_size = 64\n",
    "num_epochs = 10"
   ]
  },
  {
   "cell_type": "code",
   "execution_count": 24,
   "metadata": {
    "_uuid": "12e479cd94e48cb351f1849fbae2889bebea8ae4"
   },
   "outputs": [
    {
     "data": {
      "text/plain": [
       "500000"
      ]
     },
     "execution_count": 24,
     "metadata": {},
     "output_type": "execute_result"
    }
   ],
   "source": [
    "tokenizer.num_words"
   ]
  },
  {
   "cell_type": "code",
   "execution_count": 25,
   "metadata": {
    "_uuid": "3d620915a8fdb6480a1c0086cabb2dc1116457a8"
   },
   "outputs": [],
   "source": [
    "CNN_BOW=CNNtext(max_length,\n",
    "              encoder.classes_.__len__(),\n",
    "              tokenizer=tokenizer)"
   ]
  },
  {
   "cell_type": "code",
   "execution_count": 26,
   "metadata": {
    "_uuid": "3120d042ea0ee9e87a0dc92cdf7f7ee0eb7a4f0e"
   },
   "outputs": [
    {
     "name": "stdout",
     "output_type": "stream",
     "text": [
      "           OPERATION           DATA DIMENSIONS   WEIGHTS(N)   WEIGHTS(%)\n",
      "\n",
      "               Input   #####         180\n",
      "           Embedding   emb | -------------------   3889300    98.1%\n",
      "                       #####    180  100\n",
      "              Conv1D    \\|/  -------------------     44864     1.1%\n",
      "                relu   #####    180   64\n",
      "        MaxPooling1D   Y max -------------------         0     0.0%\n",
      "                       #####     90   64\n",
      "              Conv1D    \\|/  -------------------     28736     0.7%\n",
      "                relu   #####     90   64\n",
      "  GlobalMaxPooling1D   Y^max -------------------         0     0.0%\n",
      "                       #####          64\n",
      "             Dropout    | || -------------------         0     0.0%\n",
      "                       #####          64\n",
      "               Dense   XXXXX -------------------      2080     0.1%\n",
      "                relu   #####          32\n",
      "               Dense   XXXXX -------------------       165     0.0%\n",
      "             softmax   #####           5\n"
     ]
    }
   ],
   "source": [
    "keras2ascii(CNN_BOW)"
   ]
  },
  {
   "cell_type": "code",
   "execution_count": 27,
   "metadata": {
    "_uuid": "22b58f6b34354847ac4453bbe6e2da93ea532328"
   },
   "outputs": [
    {
     "name": "stdout",
     "output_type": "stream",
     "text": [
      "Epoch 1/10\n",
      "686/686 [==============================] - 24s 35ms/step - loss: 0.3644 - accuracy: 0.5450 - val_loss: 0.2567 - val_accuracy: 0.7118\n",
      "Epoch 2/10\n",
      "686/686 [==============================] - 24s 35ms/step - loss: 0.2249 - accuracy: 0.7638 - val_loss: 0.2217 - val_accuracy: 0.7612\n",
      "Epoch 3/10\n",
      "686/686 [==============================] - 23s 34ms/step - loss: 0.1570 - accuracy: 0.8429 - val_loss: 0.2239 - val_accuracy: 0.7715\n",
      "Epoch 4/10\n",
      "686/686 [==============================] - 24s 34ms/step - loss: 0.1193 - accuracy: 0.8832 - val_loss: 0.2404 - val_accuracy: 0.7736\n",
      "Epoch 00004: early stopping\n"
     ]
    }
   ],
   "source": [
    "hist = CNN_BOW.fit(x_train, y_train_categorical,\n",
    "                 batch_size=batch_size, epochs=num_epochs, callbacks=[es],\n",
    "                 validation_data=(x_validation,y_validation_categorical),\n",
    "                 shuffle=True)"
   ]
  },
  {
   "cell_type": "code",
   "execution_count": 28,
   "metadata": {
    "_uuid": "d1d438c0b9ffc97727be85e95b74cb49b714ad3a"
   },
   "outputs": [],
   "source": [
    "def plot_model_perfomance(hist,name):\n",
    "    plt.style.use('fivethirtyeight')\n",
    "    plt.figure(1)\n",
    "    plt.plot(hist.history['loss'], lw=2.0, color='b', label='train')\n",
    "    plt.plot(hist.history['val_loss'], lw=2.0, color='r', label='val')\n",
    "    plt.title(name)\n",
    "    plt.xlabel('Epochs')\n",
    "    plt.ylabel('Cross-Entropy Loss')\n",
    "    plt.legend(loc='upper right')\n",
    "    plt.figure(2)\n",
    "    plt.plot(hist.history['accuracy'], lw=2.0, color='b', label='train')\n",
    "    plt.plot(hist.history['val_accuracy'], lw=2.0, color='r', label='val')\n",
    "    plt.title(name)\n",
    "    plt.xlabel('Epochs')\n",
    "    plt.ylabel('Accuracy')\n",
    "    plt.legend(loc='upper left')\n",
    "    plt.show()"
   ]
  },
  {
   "cell_type": "code",
   "execution_count": 29,
   "metadata": {
    "_uuid": "3fadfe1eebadbcda19f4102f5dcfff092ed0f516",
    "scrolled": false
   },
   "outputs": [
    {
     "data": {
      "image/png": "[encoded data removed]",
      "text/plain": [
       "<Figure size 432x288 with 1 Axes>"
      ]
     },
     "metadata": {},
     "output_type": "display_data"
    },
    {
     "data": {
      "image/png": "[encoded data removed]",
      "text/plain": [
       "<Figure size 432x288 with 1 Axes>"
      ]
     },
     "metadata": {},
     "output_type": "display_data"
    }
   ],
   "source": [
    "plot_model_perfomance(hist,'CNN BOW')"
   ]
  },
  {
   "cell_type": "code",
   "execution_count": 30,
   "metadata": {
    "_uuid": "d890710c3750315e78e9fa14da5177c84553b9c7"
   },
   "outputs": [
    {
     "name": "stdout",
     "output_type": "stream",
     "text": [
      "343/343 [==============================] - 0s 1ms/step\n"
     ]
    }
   ],
   "source": [
    "bow_predict_y_validation = CNN_BOW.predict(x_validation,verbose=1)"
   ]
  },
  {
   "cell_type": "code",
   "execution_count": 31,
   "metadata": {
    "_uuid": "873e9ed1e64030f6b5ea44cf1b3c44eb595088f3"
   },
   "outputs": [],
   "source": [
    "bow_predict_y_validation= encoder.inverse_transform(bow_predict_y_validation)"
   ]
  },
  {
   "cell_type": "code",
   "execution_count": 32,
   "metadata": {
    "_uuid": "54c44d921dd260429b111da7e24874bf58a3034c"
   },
   "outputs": [
    {
     "data": {
      "image/png": "[encoded data removed]",
      "text/plain": [
       "<Figure size 2160x2160 with 2 Axes>"
      ]
     },
     "metadata": {},
     "output_type": "display_data"
    }
   ],
   "source": [
    "from sklearn.metrics import confusion_matrix\n",
    "def plot_confusion_matrix(y=None,y_predict=None,classes=None,name=None):\n",
    "    plt.figure(figsize=(30, 30))\n",
    "    sns.heatmap(confusion_matrix(y,y_predict), \n",
    "                xticklabels=classes,\n",
    "                yticklabels=classes)\n",
    "    plt.title(name)\n",
    "    plt.show()\n",
    "    \n",
    "plot_confusion_matrix(y_validation,bow_predict_y_validation,encoder.classes_,'Validation accuracy CNN BOW')"
   ]
  },
  {
   "cell_type": "code",
   "execution_count": 33,
   "metadata": {},
   "outputs": [],
   "source": [
    "# https://www.kaggle.com/criscastromaya/cnn-for-nlp-in-keras"
   ]
  },
  {
   "cell_type": "code",
   "execution_count": 34,
   "metadata": {},
   "outputs": [
    {
     "name": "stdout",
     "output_type": "stream",
     "text": [
      "614/614 [==============================] - 1s 2ms/step\n"
     ]
    }
   ],
   "source": [
    "bow_predict_y_test = CNN_BOW.predict(x_test,verbose=1)"
   ]
  },
  {
   "cell_type": "code",
   "execution_count": 35,
   "metadata": {},
   "outputs": [
    {
     "data": {
      "text/plain": [
       "array([[3.54709886e-02, 6.96780920e-01, 1.49284657e-02, 2.50808626e-01,\n",
       "        2.01103184e-03],\n",
       "       [3.50872353e-02, 8.34430635e-01, 2.56364085e-02, 9.81253237e-02,\n",
       "        6.72038831e-03],\n",
       "       [9.98980463e-01, 5.88478113e-04, 1.10586225e-04, 1.37778115e-05,\n",
       "        3.06614966e-04],\n",
       "       ...,\n",
       "       [2.58020355e-05, 9.99973893e-01, 1.05087622e-07, 3.04412765e-07,\n",
       "        3.54012930e-10],\n",
       "       [9.06316214e-04, 9.99025106e-01, 1.35657965e-05, 5.45743096e-05,\n",
       "        4.49154953e-07],\n",
       "       [9.83539939e-01, 3.98654521e-07, 9.69194843e-07, 3.40462492e-07,\n",
       "        1.64584033e-02]], dtype=float32)"
      ]
     },
     "execution_count": 35,
     "metadata": {},
     "output_type": "execute_result"
    }
   ],
   "source": [
    "bow_predict_y_test"
   ]
  },
  {
   "cell_type": "code",
   "execution_count": 36,
   "metadata": {},
   "outputs": [],
   "source": [
    "import pandas as pd\n",
    "sub = pd.read_csv('./data/sample_submission.csv', index_col=0)\n",
    "\n",
    "sub[sub.columns] = bow_predict_y_test\n",
    "sub.head()\n",
    "sub.to_csv('./data/submission3.csv')"
   ]
  },
  {
   "cell_type": "code",
   "execution_count": null,
   "metadata": {},
   "outputs": [],
   "source": []
  }
 ],
 "metadata": {
  "kernelspec": {
   "display_name": "Python 3",
   "language": "python",
   "name": "python3"
  },
  "language_info": {
   "codemirror_mode": {
    "name": "ipython",
    "version": 3
   },
   "file_extension": ".py",
   "mimetype": "text/x-python",
   "name": "python",
   "nbconvert_exporter": "python",
   "pygments_lexer": "ipython3",
   "version": "3.7.9"
  }
 },
 "nbformat": 4,
 "nbformat_minor": 1
}
